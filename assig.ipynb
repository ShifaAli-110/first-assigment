{
 "cells": [
  {
   "cell_type": "markdown",
   "metadata": {},
   "source": [
    "# Part -1 Python Basics (Variables)"
   ]
  },
  {
   "cell_type": "code",
   "execution_count": null,
   "metadata": {},
   "outputs": [],
   "source": []
  },
  {
   "cell_type": "markdown",
   "metadata": {},
   "source": [
    "1. Print Your Name with your Father name and Date of birth using suitable escape sequence charactor"
   ]
  },
  {
   "cell_type": "code",
   "execution_count": null,
   "metadata": {},
   "outputs": [],
   "source": [
    "print(\"shifa ali\\nsher muhammad\\n03/04/2000\")"
   ]
  },
  {
   "cell_type": "markdown",
   "metadata": {},
   "source": [
    "2. Write your small bio using variables and print it using print function"
   ]
  },
  {
   "cell_type": "code",
   "execution_count": null,
   "metadata": {},
   "outputs": [],
   "source": [
    "Name=\"shifa ali\"\n",
    "Age=24\n",
    "Education=\"Bachelor in computer Science\"\n",
    "skill=\"Python Programming\"\n",
    "print(f\"Name:{Name}\\nAge:{Age}\\nEducation:{Education}\\nSkill:{skill}\")"
   ]
  },
  {
   "cell_type": "markdown",
   "metadata": {},
   "source": [
    "3. Write a program in which use all the operators we can use in Python"
   ]
  },
  {
   "cell_type": "code",
   "execution_count": null,
   "metadata": {},
   "outputs": [],
   "source": [
    "# (Arithmetic operator)\n",
    "a=10\n",
    "b=5\n",
    "print(f\"Addition:{a+b}\\nsubtraction:{a-b}\\nDivision:{a/b}\\nMultiplication:{a*b}\\nModulus:{a%b}\\nAsterisk:{a**b}\\nfloor:{a//b}\")\n",
    "# (Comparision Operator)\n",
    "# equal to\n",
    "if a==b:\n",
    "    print(\"a is equal to b\")\n",
    "else:\n",
    "    print(\"a is not equal b\")\n",
    "# not equal to\n",
    "if a != b:\n",
    "    print(\"a is not equal to b\")\n",
    "else:\n",
    "    print(\"a is  equal  to b\")\n",
    "\n",
    "# greater than\n",
    "if a > b:\n",
    "    print(\"a is greater than b\")\n",
    "else:\n",
    "    print(\"a is less than b\")\n",
    "\n",
    "# less than\n",
    "if a < b:\n",
    "    print(\"a is less than b\")\n",
    "else:\n",
    "    print(\"a is greater  than b\")\n",
    "\n",
    "# greater than equal to \n",
    "if a>=b:\n",
    "    print(\"a is greater or equal to b\")\n",
    "else:\n",
    "    print(\"a is not greater and equal to b\")\n",
    "# less than or equal to b\n",
    "if a<=b:\n",
    "    print(\"a is less than or equal to b\")\n",
    "else:\n",
    "    print(\"a is not less than or equal to b\")\n",
    "\n",
    "# (logical operator)\n",
    "# And(Both condition true)\n",
    "if a > b and a< b:\n",
    "    print(\"This is the And condition\")\n",
    "else:\n",
    "    print(\"not both codition are true\")\n",
    "# Or (Any one condition true)\n",
    "if a > b or a< b :\n",
    "    print(\"this is the or condition\")\n",
    "else:\n",
    "    print(\"this is not or condition\")\n",
    "\n",
    "# Not ( change the condition true to false and false to true)\n",
    "if not(a==b):\n",
    "    print(\"a is equal to b(because not change false true)\")\n",
    "else:\n",
    "    print(\"a is not equal to b\")"
   ]
  },
  {
   "cell_type": "markdown",
   "metadata": {},
   "source": [
    "4. Completes the following steps of small task:\n",
    "    - Mention Marks of English , Islamiat and Maths out of 100 in 3 different variables\n",
    "    - Mention Variable of Total Marks and assign 300 to it\n",
    "    - Calculate Percentage"
   ]
  },
  {
   "cell_type": "code",
   "execution_count": null,
   "metadata": {},
   "outputs": [],
   "source": [
    "English=80\n",
    "islamiat=70\n",
    "maths=40\n",
    "Total_marks=300\n",
    "\n",
    "obtain_marks=English+islamiat+maths \n",
    "print(obtain_marks) \n",
    "\n",
    "percentage = obtain_marks * 100 / Total_marks\n",
    "print(f\"Percentage:{percentage} %\")"
   ]
  },
  {
   "cell_type": "markdown",
   "metadata": {},
   "source": [
    "# Part -2 Python Basics (Conditional Statements)"
   ]
  },
  {
   "cell_type": "markdown",
   "metadata": {},
   "source": [
    "1) A company decided to give bonus of 5% to employee if his/her year of service is more than 5 years.\n",
    "Ask user for their salary and year of service and print the net bonus amount."
   ]
  },
  {
   "cell_type": "code",
   "execution_count": 6,
   "metadata": {},
   "outputs": [],
   "source": [
    "salary=float(input(\"Enter your salary: \"))\n",
    "employee=int(input(\"Enter your year of services: \"))\n",
    "if employee > 5 :\n",
    "    bonus= salary * 0.05  \n",
    "    print(f\"Net Bonus amount is:{bonus}\") \n",
    "else:\n",
    "    print(\"you did not get net bonus amount because less than 6  year of services\")"
   ]
  },
  {
   "cell_type": "markdown",
   "metadata": {},
   "source": [
    "\n",
    "2) Write a program to check whether a person is eligible for voting or not. (accept age from user) if age is greater than 17 eligible otherwise not eligible"
   ]
  },
  {
   "cell_type": "code",
   "execution_count": 7,
   "metadata": {},
   "outputs": [],
   "source": [
    "age= int(input(\"Enter your age: \"))\n",
    "\n",
    "if age > 17:\n",
    "    print(\"Eligible for voting\")\n",
    "else:\n",
    "    print(\"Not Eligible for Voting\")"
   ]
  },
  {
   "cell_type": "markdown",
   "metadata": {},
   "source": [
    "\n",
    "3) Write a program to check whether a number entered by user is even or odd."
   ]
  },
  {
   "cell_type": "code",
   "execution_count": 8,
   "metadata": {},
   "outputs": [],
   "source": [
    "User=int(input(\"Enter Any Number: \"))\n",
    "\n",
    "if User % 2 == 0:\n",
    "    print(f\"Number is Even: {User}\")\n",
    "else:\n",
    "    print(f\"Number is odd: {User}\")"
   ]
  },
  {
   "cell_type": "markdown",
   "metadata": {},
   "source": [
    "4) Write a program to check whether a number is divisible by 7 or not.\n",
    "Show Answer"
   ]
  },
  {
   "cell_type": "code",
   "execution_count": 9,
   "metadata": {},
   "outputs": [],
   "source": [
    "Number=int(input(\"Enter any number: \"))\n",
    "if Number % 7 == 0:\n",
    "    print(\"divisible by 7\")\n",
    "else:\n",
    "    print(\"Not divisible by 7\")"
   ]
  },
  {
   "cell_type": "markdown",
   "metadata": {},
   "source": [
    "5) Write a program to display \n",
    "\"Hello\" if a number entered by user is a multiple of five , otherwise print \"Bye\"."
   ]
  },
  {
   "cell_type": "code",
   "execution_count": 11,
   "metadata": {},
   "outputs": [],
   "source": [
    "user=int(input(\"Enter your number: \"))\n",
    "if user % 5== 0:\n",
    "    print(\"Hello\")\n",
    "else:\n",
    "    print(\"Bye\")"
   ]
  },
  {
   "cell_type": "markdown",
   "metadata": {},
   "source": [
    "7) Write a program to display the last digit of a number.\n"
   ]
  },
  {
   "cell_type": "code",
   "execution_count": 12,
   "metadata": {},
   "outputs": [],
   "source": [
    "number=int(input(\"Enter any number\"))\n",
    "last_number=str(number)\n",
    "last=last_number[len(last_number)-1]\n",
    "print(last)"
   ]
  },
  {
   "cell_type": "markdown",
   "metadata": {},
   "source": [
    "9) Take values of length and breadth of a rectangle from user and print if it is square or rectangle."
   ]
  },
  {
   "cell_type": "code",
   "execution_count": 14,
   "metadata": {},
   "outputs": [],
   "source": [
    "length=int(input(\"Enter length: \"))\n",
    "breadth=int(input(\"Enter breadth: \"))\n",
    "\n",
    "if length == breadth:\n",
    "    print(\"It is Square \")\n",
    "else:\n",
    "    print(\"Its Breadth\")"
   ]
  },
  {
   "cell_type": "markdown",
   "metadata": {},
   "source": [
    "10) Take two int values from user and print greatest among them."
   ]
  },
  {
   "cell_type": "code",
   "execution_count": 15,
   "metadata": {},
   "outputs": [],
   "source": [
    "num1=int(input(\"Enter first number: \"))\n",
    "num2=int(input(\"Enter second number: \"))\n",
    "\n",
    "if num1 > num2:\n",
    "    print(f\"num1\",num1)\n",
    "else:\n",
    "    print(f\"num2: \",num2)"
   ]
  },
  {
   "cell_type": "markdown",
   "metadata": {},
   "source": [
    "11) A shop will give discount of 10% if the cost of purchased quantity is more than 1000.\n",
    "Ask user for quantity\n",
    "Suppose, one unit will cost 100.\n",
    "Judge and print total cost for user."
   ]
  },
  {
   "cell_type": "code",
   "execution_count": 16,
   "metadata": {},
   "outputs": [],
   "source": [
    "unit=int(input(\"How many in Quantity you want: \"))\n",
    "quantity=unit * 100\n",
    "print(quantity)\n",
    "\n",
    "if quantity  > 1000:\n",
    "    discount=quantity * 0.1\n",
    "    user_cost=quantity-discount\n",
    "    # discount= quantity - 1.1\n",
    "    # user_cost=discount * 100\n",
    "    print(f\"Total Cost of User after Discount: \",user_cost)\n",
    "\n",
    "else:\n",
    "\n",
    "    print(\"Total Cost without Discount:\",quantity)"
   ]
  },
  {
   "cell_type": "markdown",
   "metadata": {},
   "source": [
    "12) A school has following rules for grading system:\n",
    "\n",
    "a. Below 25 - F\n",
    "\n",
    "b. 25 to 45 - E\n",
    "\n",
    "c. 45 to 50 - D\n",
    "\n",
    "d. 50 to 60 - C\n",
    "\n",
    "e. 60 to 80 - B\n",
    "\n",
    "f. Above 80 - A\n",
    "\n",
    "Ask user to enter marks and print the corresponding grade."
   ]
  },
  {
   "cell_type": "code",
   "execution_count": 2,
   "metadata": {},
   "outputs": [],
   "source": [
    "marks=int(input(\"Enter Your Marks: \"))\n",
    "if marks > 80:\n",
    "    print (\"Grade A\")\n",
    "elif marks > 60  :\n",
    "    print(\"Grade B\")\n",
    "elif marks > 50 :\n",
    "    print(\"Grade C\")\n",
    "elif marks > 45 :\n",
    "    print(\"Grade D\")\n",
    "elif marks > 25 :\n",
    "    print(\"Grade E\")\n",
    "elif marks < 25 :\n",
    "    print(\"Grade F\")"
   ]
  },
  {
   "cell_type": "markdown",
   "metadata": {},
   "source": [
    "14)A student will not be allowed to sit in exam if his/her attendence is less than 75%.\n",
    "\n",
    "Take following input from user\n",
    "\n",
    "- Number of classes held\n",
    "\n",
    "- Number of classes attended.\n",
    "\n",
    "And print\n",
    "\n",
    "- percentage of class attended\n",
    "\n",
    "- Is student is allowed to sit in exam or not.\n"
   ]
  },
  {
   "cell_type": "code",
   "execution_count": 19,
   "metadata": {},
   "outputs": [],
   "source": [
    "Num_of_classes=int(input(\"Enter the number of classes : \"))\n",
    "Num_of_classes_attend=int(input(\"Enter The Number of classes Attended: \"))\n",
    "# obtain * 100 and divided by total\n",
    "percent=Num_of_classes_attend * 100\n",
    "Perc_of_clas_attend=percent / Num_of_classes\n",
    "print(f\"Percentage Cf Class Attended: \",Perc_of_clas_attend,\"%\")\n",
    "if Perc_of_clas_attend >= 75 :\n",
    "    print(\"Student is allowed to sit in exam\")\n",
    "else:\n",
    "    print(\"Student is not allowed to sit in exam\")"
   ]
  },
  {
   "cell_type": "markdown",
   "metadata": {},
   "source": [
    "15) Modify the above question to allow student to sit if he/she has medical cause. Ask user if he/she has medical cause or not ( 'Y' or 'N' ) and print accordingly."
   ]
  },
  {
   "cell_type": "code",
   "execution_count": 20,
   "metadata": {},
   "outputs": [],
   "source": [
    "Num_of_classes=int(input(\"Enter the number of classes : \"))\n",
    "Num_of_classes_attend=int(input(\"Enter The Number of classes Attended: \"))\n",
    "\n",
    "percent=Num_of_classes_attend * 100\n",
    "Perc_of_clas_attend=percent / Num_of_classes\n",
    "print(f\"Percentage Cf Class Attended: \",Perc_of_clas_attend,\"%\")\n",
    "\n",
    "medical_issue=input(\"Do you have medical issue: \")\n",
    "if Perc_of_clas_attend >= 75 :\n",
    "    print(\"Student is allowed to sit in exam\")\n",
    "elif medical_issue == \"Y\":\n",
    "    print(\"Student is allowed to sit in exam\")\n",
    "elif medical_issue == \"N\" and 75:\n",
    "    print(\"Student is not allowed to sit in exam\")\n",
    "else:\n",
    "    print(\"Student is not allowed to sit in exam\")"
   ]
  },
  {
   "cell_type": "markdown",
   "metadata": {},
   "source": [
    "16) Write a program to check if a year is leap year or not.\n",
    "\n",
    "If a year is divisible by 4 then it is leap year but if the year is century year like 2000, 1900, 2100 then it must be divisible by 400."
   ]
  },
  {
   "cell_type": "code",
   "execution_count": 21,
   "metadata": {},
   "outputs": [],
   "source": [
    "Number=int(input(\"Enter a year: \"))\n",
    "\n",
    "if(Number % 400==0)or (Number %4==0 and Number %100 !=0):\n",
    "    print(\"Leap year\",Number)\n",
    "else:\n",
    "    print(f\"not leap year\",Number)"
   ]
  },
  {
   "cell_type": "markdown",
   "metadata": {},
   "source": [
    "17) Ask user to enter age, gender ( M or F ), marital status ( Y or N ) and then using following rules print their place of service.\n",
    "\n",
    "if employee is female, then she will work only in urban areas.\n",
    "\n",
    "if employee is a male and age is in between 20 to 40 then he may work in anywhere\n",
    "\n",
    "if employee is male and age is in between 40 t0 60 then he will work in urban areas only.\n",
    "\n",
    "And any other input of age should print \"ERROR\""
   ]
  },
  {
   "cell_type": "code",
   "execution_count": 22,
   "metadata": {},
   "outputs": [],
   "source": [
    "age=int(input(\"Enter Your Age: \"))\n",
    "gender=input(\"Enter your gender: \")\n",
    "martial=input(\"Enter your marital status: \")\n",
    "\n",
    "if gender ==\"female\":\n",
    "    print(\"She will work in Urban Areas\")\n",
    "elif (gender == \"male\") and (age >=20 and age <= 40):\n",
    "    print(\"work any where\")\n",
    "elif (gender == \"male\") and (age >= 40 and age <= 60):\n",
    "    print(\"work in Urban Areas\")\n",
    "else:\n",
    "    print(\"ERROR\")"
   ]
  },
  {
   "cell_type": "markdown",
   "metadata": {},
   "source": [
    "6) Write a program to calculate the electricity bill (accept number of unit from user) according to the following criteria :\n",
    "     Unit                                                     Price  \n",
    "uptp 100 units                                             no charge\n",
    "Next 200 units                                              Rs 5 per unit\n",
    "After 200 units                                             Rs 10 per unit\n",
    "(For example if input unit is 350 than total bill amount is Rs.3500\n",
    "(For example if input unit is 97 than total bill amount is Rs.0\n",
    "(For example if input unit is 150 than total bill amount is Rs.750"
   ]
  },
  {
   "cell_type": "markdown",
   "metadata": {},
   "source": [
    "After 200 units                                             Rs 10 per unit\n",
    "(For example if input unit is 350 than total bill amount is Rs.3500\n",
    "(For example if input unit is 97 than total bill amount is Rs.0\n",
    "(For example if input unit is 150 than total bill amount is Rs.750"
   ]
  },
  {
   "cell_type": "code",
   "execution_count": null,
   "metadata": {},
   "outputs": [],
   "source": [
    "unit=int(input(\"Enter Number of Unit: \"))\n",
    "if unit <= 100:\n",
    "    print(f\"Unit is: {unit}  Total bill amount: No charge\")\n",
    "elif unit >100 and unit <200:\n",
    "    next_200=unit * 5\n",
    "    print(f\"Unit is:{unit} Total bill amount:{next_200}\")\n",
    "elif unit >200:\n",
    "    after_200=unit * 10\n",
    "    print(f\"Unit is:{unit} Total bill amount:{after_200}\")"
   ]
  },
  {
   "cell_type": "markdown",
   "metadata": {},
   "source": [
    "13) Take input of age of 3 people by user and determine oldest and youngest among them."
   ]
  },
  {
   "cell_type": "code",
   "execution_count": 18,
   "metadata": {},
   "outputs": [],
   "source": [
    "age1=int(input(\"Enter age1: \"))\n",
    "age2=int(input(\"Enter age2: \"))\n",
    "age3=int(input(\"Enter age3: \"))\n",
    "\n",
    "if age1 >age2 and age1> age3:\n",
    "    print(f\"Oldest Age is age1:{age1}\")\n",
    "elif age2 > age1 and age1 > age3:\n",
    "    print(f\"Oldest Age is age2:{age2}\")\n",
    "# elif age3 > age1 and age2:\n",
    "#     print(f\"Oldest Age is age3:{age3}\")\n",
    "else:\n",
    "    print(f\"Oldest age is age3: {age3}\")\n",
    "if age1 < age2 and age1 < age3:\n",
    "    print(f\"Youngest Age is age1:{age1}\")\n",
    "elif age2 < age1 and age2 < age3:\n",
    "    print(f\"Youngest Age is age2:{age2}\")\n",
    "else:\n",
    "    print(f\"Youngest Age is age3:{age3}\")\n"
   ]
  }
 ],
 "metadata": {
  "kernelspec": {
   "display_name": "Python 3 (ipykernel)",
   "language": "python",
   "name": "python3"
  },
  "language_info": {
   "codemirror_mode": {
    "name": "ipython",
    "version": 3
   },
   "file_extension": ".py",
   "mimetype": "text/x-python",
   "name": "python",
   "nbconvert_exporter": "python",
   "pygments_lexer": "ipython3",
   "version": "3.11.5"
  }
 },
 "nbformat": 4,
 "nbformat_minor": 2
}
